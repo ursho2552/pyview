{
 "cells": [
  {
   "cell_type": "markdown",
   "id": "c72d2bda",
   "metadata": {},
   "source": [
    "# PyView - Interactive NetCDF Viewer\n",
    "\n",
    "**A Python-based interactive netCDF viewer for Jupyter notebooks**\n",
    "\n",
    "**Purpose**: Provides ncview-like functionality optimized for remote server usage without X11 forwarding\n",
    "\n",
    "**Key Features**:\n",
    "- **Interactive Maps**: Geographic visualization with depth navigation\n",
    "- **Depth Profiles**: Vertical profiles with location selection\n",
    "- **Smart Sliders**: Navigate dimensions with real coordinate values\n",
    "- **Real-time Statistics**: Automatic min, max, mean, std updates\n",
    "- **Contained Plotting**: All plots stay within the widget interface\n",
    "\n",
    "## Quick Start\n",
    "\n",
    "```python\n",
    "from pyview import pyview\n",
    "\n",
    "# Open your netCDF file\n",
    "viewer = pyview('/path/to/your/file.nc')\n",
    "```"
   ]
  },
  {
   "cell_type": "code",
   "execution_count": 1,
   "id": "15d66042",
   "metadata": {},
   "outputs": [],
   "source": [
    "%load_ext autoreload\n",
    "%autoreload 2"
   ]
  },
  {
   "cell_type": "code",
   "execution_count": 24,
   "id": "1092686f",
   "metadata": {},
   "outputs": [],
   "source": [
    "import sys\n",
    "import os\n",
    "sys.path.append(os.path.dirname(os.path.dirname(os.path.abspath('.'))))\n",
    "\n",
    "from pyview import pyview\n",
    "\n"
   ]
  },
  {
   "cell_type": "code",
   "execution_count": 25,
   "id": "297d3f86",
   "metadata": {},
   "outputs": [
    {
     "data": {
      "application/vnd.jupyter.widget-view+json": {
       "model_id": "698e6b446abd4f4dbe047386d5410e75",
       "version_major": 2,
       "version_minor": 0
      },
      "text/plain": [
       "VBox(children=(HBox(children=(VBox(children=(HTML(value='<h4>Variable & View</h4>'), Dropdown(description='Var…"
      ]
     },
     "metadata": {},
     "output_type": "display_data"
    }
   ],
   "source": [
    "file_path = \"pyview_test_data.nc\"\n",
    "ncview_viewer = pyview(file_path)"
   ]
  },
  {
   "cell_type": "code",
   "execution_count": null,
   "id": "d30b6c0d-49f0-4e4d-a52c-edc3836fa9cd",
   "metadata": {},
   "outputs": [],
   "source": []
  }
 ],
 "metadata": {
  "kernelspec": {
   "display_name": "pyview",
   "language": "python",
   "name": "pyview"
  },
  "language_info": {
   "codemirror_mode": {
    "name": "ipython",
    "version": 3
   },
   "file_extension": ".py",
   "mimetype": "text/x-python",
   "name": "python",
   "nbconvert_exporter": "python",
   "pygments_lexer": "ipython3",
   "version": "3.13.7"
  }
 },
 "nbformat": 4,
 "nbformat_minor": 5
}
