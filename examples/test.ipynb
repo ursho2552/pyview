{
 "cells": [
  {
   "cell_type": "markdown",
   "id": "c72d2bda",
   "metadata": {},
   "source": [
    "# PyView - Interactive NetCDF Viewer\n",
    "\n",
    "**A Python-based interactive netCDF viewer for Jupyter notebooks**\n",
    "\n",
    "**Purpose**: Provides ncview-like functionality optimized for remote server usage without X11 forwarding\n",
    "\n",
    "**Key Features**:\n",
    "- **Interactive Maps**: Geographic visualization with depth navigation\n",
    "- **Depth Profiles**: Vertical profiles with location selection\n",
    "- **Smart Sliders**: Navigate dimensions with real coordinate values\n",
    "- **Real-time Statistics**: Automatic min, max, mean, std updates\n",
    "- **Contained Plotting**: All plots stay within the widget interface\n",
    "\n",
    "## Quick Start\n",
    "\n",
    "```python\n",
    "from pyview import pyview\n",
    "\n",
    "# Open your netCDF file\n",
    "viewer = pyview('/path/to/your/file.nc')\n",
    "```"
   ]
  },
  {
   "cell_type": "code",
   "execution_count": 1,
   "id": "15d66042",
   "metadata": {},
   "outputs": [],
   "source": [
    "%load_ext autoreload\n",
    "%autoreload 2"
   ]
  },
  {
   "cell_type": "code",
   "execution_count": 2,
   "id": "1092686f",
   "metadata": {},
   "outputs": [],
   "source": [
    "import sys\n",
    "sys.path.append('..')\n",
    "\n",
    "from pyview import pyview"
   ]
  },
  {
   "cell_type": "code",
   "execution_count": 3,
   "id": "297d3f86",
   "metadata": {},
   "outputs": [
    {
     "data": {
      "text/html": [
       "\n",
       "            <style>\n",
       "            /* Light theme for PyView */\n",
       "            .widget-html, .widget-html-content {\n",
       "                background-color: #ffffff !important;\n",
       "                color: #2d3748 !important;\n",
       "            }\n",
       "\n",
       "            .widget-dropdown select, .widget-text input {\n",
       "                background-color: #ffffff !important;\n",
       "                color: #2d3748 !important;\n",
       "                border: 1px solid #cbd5e0 !important;\n",
       "            }\n",
       "\n",
       "            .widget-dropdown select:focus, .widget-text input:focus {\n",
       "                border-color: #3182ce !important;\n",
       "                box-shadow: 0 0 0 1px #3182ce !important;\n",
       "            }\n",
       "\n",
       "            .widget-button {\n",
       "                background-color: #f7fafc !important;\n",
       "                color: #2d3748 !important;\n",
       "                border: 1px solid #cbd5e0 !important;\n",
       "            }\n",
       "\n",
       "            .widget-button:hover {\n",
       "                background-color: #edf2f7 !important;\n",
       "                border-color: #3182ce !important;\n",
       "            }\n",
       "\n",
       "            .widget-button.mod-info {\n",
       "                background-color: #3182ce !important;\n",
       "                color: #ffffff !important;\n",
       "                border-color: #3182ce !important;\n",
       "            }\n",
       "\n",
       "            .widget-button.mod-info:hover {\n",
       "                background-color: #2c5282 !important;\n",
       "            }\n",
       "\n",
       "            .widget-radio-box label {\n",
       "                color: #2d3748 !important;\n",
       "            }\n",
       "\n",
       "            .widget-checkbox input[type=\"checkbox\"] {\n",
       "                background-color: #ffffff !important;\n",
       "                border: 1px solid #cbd5e0 !important;\n",
       "            }\n",
       "\n",
       "            .widget-label {\n",
       "                color: #2d3748 !important;\n",
       "            }\n",
       "\n",
       "            .widget-readout {\n",
       "                color: #2d3748 !important;\n",
       "                background-color: #f7fafc !important;\n",
       "            }\n",
       "\n",
       "            /* Container backgrounds */\n",
       "            .widget-vbox, .widget-hbox {\n",
       "                background-color: #ffffff !important;\n",
       "            }\n",
       "\n",
       "            /* Image widget border */\n",
       "            .widget-image {\n",
       "                border: 1px solid #cbd5e0 !important;\n",
       "            }\n",
       "\n",
       "            /* HTML content styling */\n",
       "            .widget-html-content h4 {\n",
       "                color: #2d3748 !important;\n",
       "                margin: 5px 0 !important;\n",
       "            }\n",
       "\n",
       "            .widget-html-content hr {\n",
       "                border-color: #e2e8f0 !important;\n",
       "            }\n",
       "\n",
       "            .widget-html-content small {\n",
       "                color: #4a5568 !important;\n",
       "            }\n",
       "\n",
       "            .widget-html-content b {\n",
       "                color: #2d3748 !important;\n",
       "            }\n",
       "            </style>\n",
       "            "
      ],
      "text/plain": [
       "<IPython.core.display.HTML object>"
      ]
     },
     "metadata": {},
     "output_type": "display_data"
    },
    {
     "data": {
      "application/vnd.jupyter.widget-view+json": {
       "model_id": "f8a06f3e70484a09abce8ccef9906248",
       "version_major": 2,
       "version_minor": 0
      },
      "text/plain": [
       "VBox(children=(HBox(children=(VBox(children=(Button(button_style='info', description='Dark', layout=Layout(mar…"
      ]
     },
     "metadata": {},
     "output_type": "display_data"
    }
   ],
   "source": [
    "file_path = \"pyview_test_data.nc\"\n",
    "ncview_viewer = pyview(file_path)"
   ]
  },
  {
   "cell_type": "code",
   "execution_count": null,
   "id": "d30b6c0d-49f0-4e4d-a52c-edc3836fa9cd",
   "metadata": {},
   "outputs": [],
   "source": []
  }
 ],
 "metadata": {
  "kernelspec": {
   "display_name": "pyview",
   "language": "python",
   "name": "pyview"
  },
  "language_info": {
   "codemirror_mode": {
    "name": "ipython",
    "version": 3
   },
   "file_extension": ".py",
   "mimetype": "text/x-python",
   "name": "python",
   "nbconvert_exporter": "python",
   "pygments_lexer": "ipython3",
   "version": "3.13.7"
  }
 },
 "nbformat": 4,
 "nbformat_minor": 5
}
